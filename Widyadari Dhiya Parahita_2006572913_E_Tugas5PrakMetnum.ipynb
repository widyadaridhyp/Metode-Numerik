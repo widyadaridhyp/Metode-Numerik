{
 "cells": [
  {
   "cell_type": "code",
   "execution_count": null,
   "metadata": {},
   "outputs": [
    {
     "name": "stdout",
     "output_type": "stream",
     "text": [
      "=== PARTIAL PIVOTING ===\n"
     ]
    }
   ],
   "source": [
    "import numpy as np #import package yang dibutuhkan\n",
    "\n",
    "print('=== PARTIAL PIVOTING ===')\n",
    "arr = np.random.randint(-99,100,size=(3,5)) #merandom angka dengan interval < 100\n",
    "npm = eval(input('Masukan 5 digit terakhir NPM anda dalam bentuk array: ')) #Input npm dalam bentuk array [.,.,.,.,.]\n",
    "aug_matrix = np.vstack((arr,npm)) #memberlakukan array secara vertikal\n",
    "print('Matriksnya : ')\n",
    "print(aug_matrix) #print matriks awal\n",
    "\n",
    "def PartialPivoting(matrix):\n",
    "    n = np.shape(matrix)[0] #Banyak baris/persamaan pada matrix\n",
    "    for i in range(n-1):\n",
    "        below_pivot = abs(matrix[i:,i])         \n",
    "        pivot_row = np.argmax(below_pivot) #Mencari lokasi dari kolom yg membuat absolutnya nilai maksimum\n",
    "        if matrix[i,pivot_row+i] == 0: #Jika nilainya = 0, satu kolom bernilai 0\n",
    "            return \"Tidak ada solusi unik\"\n",
    "        else:\n",
    "            matrix[[pivot_row+i,i]]= matrix[[i,pivot_row+i]]     \n",
    "        for j in range(i+1,n): #Eleminasi gauss\n",
    "            m = matrix[j,i]/matrix[i,j]\n",
    "            matrix[j] = matrix[j]-m*matrix[i]\n",
    "        print(matrix)\n",
    "        print('')\n",
    "    return matrix\n",
    "\n",
    "def BackwardSubstitution(matrix):\n",
    "    n = np.shape(matrix)[0] #banyak baris/persamaan pada matriks\n",
    "    solusi = np.zeros(n)  #membentuk array berelemen 0 [0,0,...,0] sepanjang n, untuk menyimpan solusi\n",
    "    solusi[n-1]= matrix[n-1,n]/matrix[n-1,n-1] #Set xn = a(NROW(n),n+1)/a(NROW(n),n)\n",
    "    for i in range(n-2,-1,-1): #set xi=(a(NROW(i),n+1)-sum_{j=i+1}^na(NROW(i),j)xj)/a(NROW(i),i)\n",
    "        for j in range(i+1,n):\n",
    "            matrix[i,n]-=matrix[i,j]*solusi[j]\n",
    "        solusi[i] = matrix[i,n]/matrix[i,i]\n",
    "    return solusi\n",
    "\n",
    "triangular_form_pp = PartialPivoting(aug_matrix)\n",
    "print(\"Solusi : \\n {0}\".format(BackwardSubstitution(triangular_form_pp)))"
   ]
  },
  {
   "cell_type": "markdown",
   "metadata": {},
   "source": [
    "Program ini adalah program yang dapat menyelesaikan SPL engan input berupa matriks 4 x 5 dengan ketentuan baris pertama hingga ketiga berisi hasil random dan baris terakhir berisi 5 angka terakhir npm.\n",
    "Berikut algoritmanya:\n",
    "1. Import package numpy\n",
    "2. Print judulnya dan matriks awalnya\n",
    "3. Merandom elemen-elemen baris pertama hingga ketiga yang diabsolut kurang dari 100\n",
    "4. Karena per baris, gunakan vstack\n",
    "5. Definisikan Partial Pivoting. Cari lokasi dari kolom yg membuat absolutnya nilai maksimum $|a(NROW(p)i)| = max_{i <= j <= n} \\, |a(NROW(j)i)|$. Kemudian, jika $a(NROW(p),i) = 0$, tidak ada solusi unik. Jika tidak masuk ke dalam rumus tersebut.\n",
    "6. Lakukan eliminasi gauss\n",
    "7. Definisikan Backward Substitution\n",
    "8. Print solusi dengan cara BacwardSubtitution(PartialPivoting(aug_matrix)"
   ]
  },
  {
   "cell_type": "code",
   "execution_count": null,
   "metadata": {},
   "outputs": [],
   "source": []
  }
 ],
 "metadata": {
  "kernelspec": {
   "display_name": "Python 3",
   "language": "python",
   "name": "python3"
  },
  "language_info": {
   "codemirror_mode": {
    "name": "ipython",
    "version": 3
   },
   "file_extension": ".py",
   "mimetype": "text/x-python",
   "name": "python",
   "nbconvert_exporter": "python",
   "pygments_lexer": "ipython3",
   "version": "3.8.8"
  }
 },
 "nbformat": 4,
 "nbformat_minor": 4
}
