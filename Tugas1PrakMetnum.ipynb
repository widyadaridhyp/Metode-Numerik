{
 "cells": [
  {
   "cell_type": "code",
   "execution_count": 166,
   "metadata": {},
   "outputs": [
    {
     "name": "stdout",
     "output_type": "stream",
     "text": [
      "Masukkan formula fungsi: log(x-1)+cos(x-1)-0.2\n",
      "Masukkan titik awal iterasi: 2.5\n",
      "Masukkan toleransi aproksimasi: 0.00001\n",
      "Newton dari f(x): log(x-1)+cos(x-1)-0.2 adalah x = 3.1998763840778\n"
     ]
    }
   ],
   "source": [
    "import numpy as np #import module numpynya\n",
    "from numpy import sin, cos, tan, exp, log #Dari numpy kita import trigono, exp, dan logaritma\n",
    "\n",
    "formula = input('Masukkan formula fungsi: ') #Di sini kita bakal diperintahkan untuk memasukkan fungsi\n",
    "start = eval(input('Masukkan titik awal iterasi: ')) #Di sini kita input titik awalnya. Kemudian, titik awal itu akan dieval agar tidak terdefinisi lagi sebagai string\n",
    "tol = eval(input('Masukkan toleransi aproksimasi: ')) #Kita masukkan nilai TOLnya yang kemudian dieval.\n",
    "\n",
    "def f(x): #Kita definisikan ulang agar dapat dipanggil dan disubtitusikan nilai xnya\n",
    "    return eval (formula) #Eval di sini berguna untuk mengubah formula yang tadinya berupa string, sehingga dapat terbaca menjadi sebuah fungsi \n",
    "\n",
    "def df(x): #Untuk yang ini kita akan mendefinisikan turunan\n",
    "    h = 10**(-12) #Pertama kita input nilai h. Sesuai perintah, kita gunakan h = 10**(-12)\n",
    "    limit = (f(x+h)-f(x))/h #Kemudian, kita menggunakan definisi turunan yang menggunakan rumus dari limit.\n",
    "    return limit #Nantinya fungsi dari df(x) adalah hasil dari turunan f(x)\n",
    "    \n",
    "def Newton (p0, tol): #Di sini kita akan mendefinisikan newton\n",
    "    \n",
    "    p = p0 - (f(p0)/df(p0)) #Kita set p dengan rumus dari newton itu sendiri\n",
    "    abs_error = abs(p-p0) #Setelah kita set p, kita akan menemukan nilai |p-p0|\n",
    "    p0 = p #Untuk memperbarui nilai p0 dengan p yang baru\n",
    "     \n",
    "    while abs_error >= tol: #Masuk ke looping.\n",
    "        p = p0 - (f(p0)/df(p0)) #Kita input ulang nilai p nya dalam looping\n",
    "        abs_error = abs(p-p0) #Nilai absolutnya akan terus berubah dan diperbarui\n",
    "        p0 = p #Nilai p0 pun juga akan terus diperbarui\n",
    "    return p #Hasil p akhirnya\n",
    "\n",
    "newton_ = Newton(start, tol) #Untuk menginisialkan hasil dari newtonnya yang nanti akan dibuatkan format saat diprint.\n",
    "\n",
    "print('Newton dari f(x): {0} adalah x = {1:.13f}'. format(formula, newton_)) #Print dan chopping nilai dari newtonnya"
   ]
  },
  {
   "cell_type": "markdown",
   "metadata": {},
   "source": [
    "Program ini dibuat untuk mengaproksimasikan nilai akar dari suatu persamaan yang diberikan Widyadari Dhiya Parahita\n",
    "Idenya adalah dengan menyimpan fungsi, titik, awal, dan tolerance yang kemudian akan diprint hasilnya dengan menggunakan metode newton.\n",
    "1. Import modul numpy\n",
    "2. Dari numpy, import trigono, log, dan exp (Mau lebih gpp, yang penting di soal ada log sama cos)\n",
    "3. Input formula / fungsi dan eval\n",
    "4. Masukkan titik awal dan nilai TOL. Kemudian eval. Fungsi eval ini digunakan untuk memparsing atau menguraikan ekspresi string yang diteruskan ke fungsi ini dan menjalankannya sebagai ekspresi python (kode) di dalam program. (Untuk informasi tambahan, di sini aku menggunakan inputnya di awal semua. Mau di awal atau di akhir seperti waktu praktikum, tidak ada pengaruhnya selagi letaknya sama-sama dipojok kiri).\n",
    "5. Definisikan f(x). Kemudian, eval untuk memparsing atau menguraikan ekspresi string\n",
    "6. Definisikan df(x) yang mana turunan dari f(x). Awalnya, kita input nilai hnya. Kemudian, kita set rumus turunannya.\n",
    "7. Definisikan newton. Set p dengan rumus iterasi newton\n",
    "8. Setelah kita set p, kita akan menemukan nilai |p-p0|.\n",
    "9. Ubah p0nya dengan p, sehingga akan didapatkan nilai p0 yang baru.\n",
    "10. Masuk ke looping. Karena nilai absolut yang tadi sudah diketahui, kita sudah bisa masuk ke looping. Looping ini akan terus berjalan hingga nilai absolut tersebut sama dengan TOL. Dengan kata lain, looping akan berhenti jika nilai absolut kurang dari nol. Jika |p-p0|< TOL, return p. (Isi loopingnya ini sama seperti saat ingin mencari nilai |p-p0|)\n",
    "11. Setelah mendapatkan nilai p, kita set nilai newtonnya.\n",
    "12. Print dan chopping nilainya. Untuk chopping seperti contoh soal menggunakan 13 angka di belakang koma. Oleh karena itu, kita gunakan '{1:.13f}'.format()"
   ]
  },
  {
   "cell_type": "code",
   "execution_count": null,
   "metadata": {},
   "outputs": [],
   "source": []
  }
 ],
 "metadata": {
  "kernelspec": {
   "display_name": "Python 3",
   "language": "python",
   "name": "python3"
  },
  "language_info": {
   "codemirror_mode": {
    "name": "ipython",
    "version": 3
   },
   "file_extension": ".py",
   "mimetype": "text/x-python",
   "name": "python",
   "nbconvert_exporter": "python",
   "pygments_lexer": "ipython3",
   "version": "3.8.8"
  }
 },
 "nbformat": 4,
 "nbformat_minor": 4
}
